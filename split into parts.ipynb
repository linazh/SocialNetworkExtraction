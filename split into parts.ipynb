{
 "cells": [
  {
   "cell_type": "code",
   "execution_count": 1,
   "metadata": {},
   "outputs": [],
   "source": [
    "from IPython.display import clear_output\n",
    "import re\n",
    "import os"
   ]
  },
  {
   "cell_type": "markdown",
   "metadata": {},
   "source": [
    "## Process HP"
   ]
  },
  {
   "cell_type": "code",
   "execution_count": 19,
   "metadata": {},
   "outputs": [],
   "source": [
    "def paragraph_split(text):\n",
    "    paragraphs = [elem.strip() for elem in text.split('\\n\\n') if not elem.isspace() and elem != '']\n",
    "    return paragraphs\n",
    "\n",
    "def chapter_split(text):\n",
    "    ind_book_chap = re.findall('Chapter (\\d+)-(\\d+):', text)\n",
    "    chap_texts = re.split('Chapter \\d+-\\d+:', text)[1:]\n",
    "    chapters = [(index, elem.strip()) for index, elem in zip(ind_book_chap, chap_texts) if elem.strip() != '']\n",
    "    return chapters"
   ]
  },
  {
   "cell_type": "code",
   "execution_count": 20,
   "metadata": {},
   "outputs": [],
   "source": [
    "hp = open('hp.txt', encoding='utf-8').read()\n",
    "hpline = chapter_split(hp)"
   ]
  },
  {
   "cell_type": "code",
   "execution_count": 21,
   "metadata": {},
   "outputs": [
    {
     "data": {
      "text/plain": [
       "150"
      ]
     },
     "execution_count": 21,
     "metadata": {},
     "output_type": "execute_result"
    }
   ],
   "source": [
    "len(hpline)"
   ]
  },
  {
   "cell_type": "code",
   "execution_count": null,
   "metadata": {},
   "outputs": [],
   "source": [
    "# for i in range(len(hpline)):\n",
    "#     if i % 10 == 0:\n",
    "#         clear_output()\n",
    "#         print(i)\n",
    "#     index, chtext = hpline[i]\n",
    "#     fname = f'input/hp_chap_{index[0]}_{index[1]}'\n",
    "#     with open(fname, 'w', encoding='utf-8') as f:\n",
    "#         f.write(chtext)\n",
    "\n",
    "# with open('hp_filelist.txt', 'w') as f:\n",
    "#     for elem in os.listdir('./input'):\n",
    "#         if elem.find('hp_') != -1:\n",
    "#             print('input/' + elem, file=f)"
   ]
  },
  {
   "cell_type": "markdown",
   "metadata": {},
   "source": [
    "## Process ASOIF"
   ]
  },
  {
   "cell_type": "code",
   "execution_count": 2,
   "metadata": {},
   "outputs": [],
   "source": [
    "path = 'asoif books/'\n",
    "booknames = [f'book{i+1}.txt' for i in range(5)]\n",
    "booktexts = [open(path + name, encoding='utf-8').read() for name in booknames]"
   ]
  },
  {
   "cell_type": "code",
   "execution_count": 3,
   "metadata": {},
   "outputs": [],
   "source": [
    "def split_book(index, text):\n",
    "    ann, content, resttext = [elem.strip() for elem in text.split('* * *')]\n",
    "    headers = [elem.strip() for elem in content.strip().split('\\n') if elem.strip() != '']\n",
    "    \n",
    "    ch = 0\n",
    "    chapters = [((index, ch), ann)]\n",
    "    index_array = []\n",
    "    for head in headers[headers.index('PROLOGUE'):]:\n",
    "        try:\n",
    "            curtext, resttext = [elem.strip() for elem in resttext.split(head + '\\n', maxsplit=1)]\n",
    "            resttext = head + '\\n\\n' + resttext\n",
    "        except:\n",
    "            continue\n",
    "        if head == 'PROLOGUE':\n",
    "            resttext = curtext + '\\n\\n' + resttext\n",
    "            continue\n",
    "        \n",
    "        if curtext != '':\n",
    "            ch += 1\n",
    "            chapters += [((index, ch), curtext)]\n",
    "    \n",
    "    if resttext != '':\n",
    "        ch += 1\n",
    "        chapters += [((index, ch), resttext)]\n",
    "    \n",
    "    return chapters"
   ]
  },
  {
   "cell_type": "code",
   "execution_count": 4,
   "metadata": {},
   "outputs": [],
   "source": [
    "asoifline = []\n",
    "\n",
    "for i in range(len(booktexts)):\n",
    "    asoifline += split_book(i + 1, booktexts[i])"
   ]
  },
  {
   "cell_type": "code",
   "execution_count": 5,
   "metadata": {},
   "outputs": [
    {
     "data": {
      "text/plain": [
       "349"
      ]
     },
     "execution_count": 5,
     "metadata": {},
     "output_type": "execute_result"
    }
   ],
   "source": [
    "len(asoifline)"
   ]
  },
  {
   "cell_type": "markdown",
   "metadata": {},
   "source": [
    "## Save files"
   ]
  },
  {
   "cell_type": "code",
   "execution_count": 6,
   "metadata": {},
   "outputs": [],
   "source": [
    "def save_files(key, line):\n",
    "    with open(f'{key}_filelist.txt', 'w') as flist:\n",
    "        for i in range(len(line)):\n",
    "            if i % 10 == 0:\n",
    "                clear_output()\n",
    "                print(f'{i}/{len(line)}')\n",
    "            \n",
    "            index, chtext = line[i]\n",
    "            fname = f'input/{key}_chap_{index[0]}_{index[1]}'\n",
    "            with open(fname, 'w', encoding='utf-8') as f:\n",
    "                f.write(chtext)\n",
    "                flist.write(fname + '\\n')"
   ]
  },
  {
   "cell_type": "code",
   "execution_count": 116,
   "metadata": {},
   "outputs": [
    {
     "name": "stdout",
     "output_type": "stream",
     "text": [
      "140/150\n"
     ]
    }
   ],
   "source": [
    "save_files('hp', hpline)"
   ]
  },
  {
   "cell_type": "code",
   "execution_count": 7,
   "metadata": {},
   "outputs": [
    {
     "name": "stdout",
     "output_type": "stream",
     "text": [
      "340/349\n"
     ]
    }
   ],
   "source": [
    "save_files('asoif', asoifline)"
   ]
  },
  {
   "cell_type": "code",
   "execution_count": null,
   "metadata": {},
   "outputs": [],
   "source": []
  }
 ],
 "metadata": {
  "kernelspec": {
   "display_name": "Python 3",
   "language": "python",
   "name": "python3"
  },
  "language_info": {
   "codemirror_mode": {
    "name": "ipython",
    "version": 3
   },
   "file_extension": ".py",
   "mimetype": "text/x-python",
   "name": "python",
   "nbconvert_exporter": "python",
   "pygments_lexer": "ipython3",
   "version": "3.6.3"
  }
 },
 "nbformat": 4,
 "nbformat_minor": 2
}
