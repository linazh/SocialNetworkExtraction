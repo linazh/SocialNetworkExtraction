{
 "cells": [
  {
   "cell_type": "code",
   "execution_count": 1,
   "metadata": {},
   "outputs": [],
   "source": [
    "import json\n",
    "import os\n",
    "import re\n",
    "from tqdm import tqdm"
   ]
  },
  {
   "cell_type": "code",
   "execution_count": 2,
   "metadata": {},
   "outputs": [],
   "source": [
    "series_key = 'asoif'\n",
    "#series_key = 'hp'"
   ]
  },
  {
   "cell_type": "code",
   "execution_count": 4,
   "metadata": {},
   "outputs": [],
   "source": [
    "coref_algo = 'neural'\n",
    "coref_dist = 3\n",
    "coref_params = f'{series_key}_{coref_algo}_{coref_dist}'\n",
    "output_path = f'output_{coref_params}/'"
   ]
  },
  {
   "cell_type": "code",
   "execution_count": 5,
   "metadata": {},
   "outputs": [],
   "source": [
    "def read_json(key, path):\n",
    "    arrayjson = []\n",
    "    for file in tqdm(sorted(os.listdir(path), \n",
    "                            key=lambda x: (\n",
    "                                int(x.split('_')[-2]),\n",
    "                                int(x.split('_')[-1].replace('.json', '')))\n",
    "                           )\n",
    "                    ):\n",
    "        with open(path + file, encoding='utf-8') as f:\n",
    "            arrayjson.append(json.load(f))\n",
    "    \n",
    "    return arrayjson"
   ]
  },
  {
   "cell_type": "code",
   "execution_count": 6,
   "metadata": {},
   "outputs": [
    {
     "name": "stderr",
     "output_type": "stream",
     "text": [
      "100%|████████████████████████████████████████████████████████████████████████████████| 349/349 [01:39<00:00,  2.47it/s]\n"
     ]
    }
   ],
   "source": [
    "arrayjson = read_json(series_key, output_path)"
   ]
  },
  {
   "cell_type": "code",
   "execution_count": 7,
   "metadata": {},
   "outputs": [],
   "source": [
    "def replace_coref(chapter, chapsent, doCoref=True):\n",
    "    #chapter = arrayjson[0]\n",
    "    #chapsent = allsent[0]\n",
    "\n",
    "    for index in chapter['corefs']:\n",
    "        if not doCoref:\n",
    "            break\n",
    "        corefs = chapter['corefs'][index]\n",
    "        \n",
    "        ind0 = 0\n",
    "        while not corefs[ind0]['isRepresentativeMention']:\n",
    "            ind0 += 1\n",
    "\n",
    "        num0 = corefs[ind0]['sentNum'] - 1\n",
    "        start0 = corefs[ind0]['startIndex'] - 1\n",
    "        end0 = corefs[ind0]['endIndex'] - 1\n",
    "        gender0 = corefs[ind0]['gender']\n",
    "        number0 = corefs[ind0]['number']\n",
    "        type0 = corefs[ind0]['type']\n",
    "        text0 = corefs[ind0]['text']\n",
    "        textslice0 = chapsent[num0][start0:end0]\n",
    "\n",
    "        #print('$$$$$$$$$$$$', textslice0, text0)\n",
    "\n",
    "        # pass pronomial\n",
    "        if type0 == 'PRONOMINAL':\n",
    "            #print(\"______PASS_______\")\n",
    "            continue\n",
    "\n",
    "        for i in range(len(corefs)):\n",
    "            if i == ind0:\n",
    "                continue\n",
    "            cor = corefs[i]\n",
    "            \n",
    "            num_ = cor['sentNum'] - 1\n",
    "            start_ = cor['startIndex'] - 1\n",
    "            end_ = cor['endIndex'] - 1\n",
    "            gender_ = cor['gender']\n",
    "            number_ = cor['number']\n",
    "            type_ = cor['type']\n",
    "            text_ = cor['text']\n",
    "            textslice_ = chapsent[num_][start_:end_]\n",
    "\n",
    "            # pass direct speech\n",
    "            if type_ == 'PRONOMINAL' and text_.lower() in ['i', 'you', 'we']:\n",
    "                continue\n",
    "            # pass mistakes in gender and number\n",
    "            if gender0 != gender_ or number0 != number_:\n",
    "                continue\n",
    "\n",
    "            #print(num_, textslice_)\n",
    "            chapsent[num_][start_] = [len(textslice_)] + textslice0[:]\n",
    "            #print(num_, '!', chapsent[num_])\n",
    "\n",
    "    for k in range(len(chapsent)):\n",
    "        i = 0\n",
    "        maxi = len(chapsent[k])\n",
    "        while i < maxi:\n",
    "            elem = chapsent[k][i]\n",
    "            # substitue coref list\n",
    "            if type(elem) == list:\n",
    "                length = elem[0]\n",
    "                chapsent[k][i:i + length] = elem[1:]\n",
    "                continue\n",
    "            # delete punctuation tokens\n",
    "            if re.sub('\\W', '', elem) == '':\n",
    "                chapsent[k].pop(i)\n",
    "            else:\n",
    "                chapsent[k][i] = chapsent[k][i].replace('’', \"'\")\n",
    "                i += 1\n",
    "            maxi = len(chapsent[k])\n",
    "        #print(chapsent[k])\n",
    "        \n",
    "    \n",
    "    return chapsent[:]\n",
    "\n",
    "def preprocess_data(arrayjson, doCoref=True):\n",
    "    allsent = []\n",
    "\n",
    "    for chapter in tqdm(arrayjson):\n",
    "        chapsent = []\n",
    "        for sent in chapter['sentences']:\n",
    "            cursent = []\n",
    "            for token in sent['tokens']:\n",
    "                cursent.append(token['originalText'])\n",
    "            chapsent.append(cursent)\n",
    "        allsent += replace_coref(chapter, chapsent, doCoref)\n",
    "    \n",
    "    return allsent"
   ]
  },
  {
   "cell_type": "code",
   "execution_count": 8,
   "metadata": {},
   "outputs": [
    {
     "name": "stderr",
     "output_type": "stream",
     "text": [
      "100%|████████████████████████████████████████████████████████████████████████████████| 349/349 [01:20<00:00,  4.31it/s]\n",
      "100%|████████████████████████████████████████████████████████████████████████████████| 349/349 [00:07<00:00, 46.96it/s]\n"
     ]
    }
   ],
   "source": [
    "dataNo = preprocess_data(arrayjson, False)\n",
    "dataCoref = preprocess_data(arrayjson)"
   ]
  },
  {
   "cell_type": "markdown",
   "metadata": {},
   "source": [
    "## Save to txt"
   ]
  },
  {
   "cell_type": "code",
   "execution_count": 9,
   "metadata": {},
   "outputs": [],
   "source": [
    "# from unidecode import unidecode\n",
    "# .encode('ascii', 'ignore').decode() deletes all non ascii characters\n",
    "# unidecode replaces non-ascii characters\n",
    "\n",
    "with open(f'{coref_params}_dataNo.txt', 'w', encoding='utf-8') as f:\n",
    "    #f.write(unidecode('\\n'.join([' '.join(sent) for sent in dataNo])))\n",
    "    f.write('\\n'.join([' '.join(sent) for sent in dataNo if sent != []]))\n",
    "\n",
    "with open(f'{coref_params}_dataCoref.txt', 'w', encoding='utf-8') as f:\n",
    "    #f.write(unidecode('\\n'.join([' '.join(sent) for sent in dataCoref])))\n",
    "    f.write('\\n'.join([' '.join(sent) for sent in dataCoref if sent != []]))"
   ]
  },
  {
   "cell_type": "markdown",
   "metadata": {},
   "source": [
    "## Train models"
   ]
  },
  {
   "cell_type": "code",
   "execution_count": 10,
   "metadata": {},
   "outputs": [],
   "source": [
    "pathtosave = f'./githubs/digitalhumanities_social_network_extraction-master/models/my_{coref_params}_'"
   ]
  },
  {
   "cell_type": "markdown",
   "metadata": {},
   "source": [
    "### Word2Vec"
   ]
  },
  {
   "cell_type": "code",
   "execution_count": 11,
   "metadata": {},
   "outputs": [],
   "source": [
    "from gensim.models import Word2Vec"
   ]
  },
  {
   "cell_type": "code",
   "execution_count": 12,
   "metadata": {},
   "outputs": [
    {
     "name": "stdout",
     "output_type": "stream",
     "text": [
      "Wall time: 18.7 s\n",
      "Wall time: 20.1 s\n"
     ]
    }
   ],
   "source": [
    "%time word2vec1 = Word2Vec(dataNo, size=300)\n",
    "%time word2vec2 = Word2Vec(dataCoref, size=300)"
   ]
  },
  {
   "cell_type": "code",
   "execution_count": 13,
   "metadata": {},
   "outputs": [],
   "source": [
    "word2vec1.wv.save_word2vec_format(pathtosave + \"w2v-default-No.model\")\n",
    "word2vec2.wv.save_word2vec_format(pathtosave + \"w2v-default-Coref.model\")"
   ]
  },
  {
   "cell_type": "code",
   "execution_count": 14,
   "metadata": {},
   "outputs": [
    {
     "name": "stdout",
     "output_type": "stream",
     "text": [
      "Wall time: 8min 50s\n",
      "Wall time: 9min 28s\n"
     ]
    }
   ],
   "source": [
    "%time word2vec3 = Word2Vec(dataNo, size=300, window=12, iter=15, sg=1, negative=15)\n",
    "%time word2vec4 = Word2Vec(dataCoref, size=300, window=12, iter=15, sg=1, negative=15)"
   ]
  },
  {
   "cell_type": "code",
   "execution_count": 15,
   "metadata": {},
   "outputs": [],
   "source": [
    "word2vec3.wv.save_word2vec_format(pathtosave + \"w2v-ns-No.model\")\n",
    "word2vec4.wv.save_word2vec_format(pathtosave + \"w2v-ns-Coref.model\")"
   ]
  },
  {
   "cell_type": "code",
   "execution_count": 16,
   "metadata": {},
   "outputs": [
    {
     "name": "stdout",
     "output_type": "stream",
     "text": [
      "Wall time: 7min 42s\n",
      "Wall time: 8min 5s\n"
     ]
    }
   ],
   "source": [
    "%time word2vec5 = Word2Vec(dataNo, size=300, window=12, iter=15, sg=1, hs=1)\n",
    "%time word2vec6 = Word2Vec(dataCoref, size=300, window=12, iter=15, sg=1, hs=1)"
   ]
  },
  {
   "cell_type": "code",
   "execution_count": 17,
   "metadata": {},
   "outputs": [],
   "source": [
    "word2vec5.wv.save_word2vec_format(pathtosave + \"w2v-hs-No.model\")\n",
    "word2vec6.wv.save_word2vec_format(pathtosave + \"w2v-hs-Coref.model\")"
   ]
  },
  {
   "cell_type": "code",
   "execution_count": 18,
   "metadata": {},
   "outputs": [
    {
     "name": "stdout",
     "output_type": "stream",
     "text": [
      "Wall time: 1min 36s\n",
      "Wall time: 1min 44s\n"
     ]
    }
   ],
   "source": [
    "%time word2vec7 = Word2Vec(dataNo, size=300, window=12, iter=15, negative=15)\n",
    "%time word2vec8 = Word2Vec(dataCoref, size=300, window=12, iter=15, negative=15)"
   ]
  },
  {
   "cell_type": "code",
   "execution_count": 19,
   "metadata": {},
   "outputs": [],
   "source": [
    "word2vec7.wv.save_word2vec_format(pathtosave + \"w2v-CBOW-No.model\")\n",
    "word2vec8.wv.save_word2vec_format(pathtosave + \"w2v-CBOW-Coref.model\")"
   ]
  },
  {
   "cell_type": "markdown",
   "metadata": {},
   "source": [
    "### FastText"
   ]
  },
  {
   "cell_type": "code",
   "execution_count": 21,
   "metadata": {},
   "outputs": [],
   "source": [
    "from fastText import FastText"
   ]
  },
  {
   "cell_type": "code",
   "execution_count": 22,
   "metadata": {},
   "outputs": [
    {
     "name": "stdout",
     "output_type": "stream",
     "text": [
      "Wall time: 27min 35s\n"
     ]
    }
   ],
   "source": [
    "%%time\n",
    "ft1 = FastText.train_unsupervised(f'{coref_params}_dataNo.txt', model='skipgram', dim=300, ws=12, epoch=15, neg=15)"
   ]
  },
  {
   "cell_type": "code",
   "execution_count": 23,
   "metadata": {},
   "outputs": [
    {
     "name": "stdout",
     "output_type": "stream",
     "text": [
      "Wall time: 30min 18s\n"
     ]
    }
   ],
   "source": [
    "%%time\n",
    "ft2 = FastText.train_unsupervised(f'{coref_params}_dataCoref.txt', model='skipgram', dim=300, ws=12, epoch=15, neg=15)"
   ]
  },
  {
   "cell_type": "code",
   "execution_count": 24,
   "metadata": {},
   "outputs": [],
   "source": [
    "def write_ft_model(ft, mname):\n",
    "    with open(pathtosave + mname, 'w', encoding='utf-8') as f:\n",
    "        print(len(ft.get_words()), ft.get_dimension(), file=f)\n",
    "        for word in tqdm(ft.get_words()):\n",
    "            print(word, *ft.get_word_vector(word), file=f)"
   ]
  },
  {
   "cell_type": "code",
   "execution_count": 25,
   "metadata": {},
   "outputs": [
    {
     "name": "stderr",
     "output_type": "stream",
     "text": [
      "100%|████████████████████████████████████████████████████████████████████████████| 12790/12790 [08:25<00:00, 25.31it/s]\n",
      "100%|██████████████████████████████████████████████████████████████████████████| 13071/13071 [00:07<00:00, 1847.44it/s]\n"
     ]
    }
   ],
   "source": [
    "write_ft_model(ft1, 'ft-No.model')\n",
    "write_ft_model(ft2, 'ft-Coref.model')"
   ]
  },
  {
   "cell_type": "code",
   "execution_count": null,
   "metadata": {},
   "outputs": [],
   "source": []
  }
 ],
 "metadata": {
  "kernelspec": {
   "display_name": "Python 3",
   "language": "python",
   "name": "python3"
  },
  "language_info": {
   "codemirror_mode": {
    "name": "ipython",
    "version": 3
   },
   "file_extension": ".py",
   "mimetype": "text/x-python",
   "name": "python",
   "nbconvert_exporter": "python",
   "pygments_lexer": "ipython3",
   "version": "3.6.3"
  }
 },
 "nbformat": 4,
 "nbformat_minor": 2
}
